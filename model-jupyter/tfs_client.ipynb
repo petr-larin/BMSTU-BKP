{
 "cells": [
  {
   "cell_type": "markdown",
   "id": "80961e19",
   "metadata": {
    "scrolled": true
   },
   "source": [
    "# Датасет \"Оставшееся количество циклов зарядки аккумулятора\" \n",
    "Оригинальное название: *Battery Remaining Useful Life (RUL)*\n",
    "\n",
    "\n",
    "## Клиент для удаленного подключения к серверу TensorFlow Serving"
   ]
  },
  {
   "cell_type": "code",
   "execution_count": 1,
   "id": "d1ae198d",
   "metadata": {},
   "outputs": [],
   "source": [
    "import requests\n",
    "import pickle\n",
    "from sklearn.preprocessing import MinMaxScaler\n",
    "import pandas as pd\n",
    "import warnings\n",
    "warnings.filterwarnings('ignore')"
   ]
  },
  {
   "cell_type": "markdown",
   "id": "b528479b",
   "metadata": {},
   "source": [
    "Загрузка сохраненных объектов MinMaxScaler:"
   ]
  },
  {
   "cell_type": "code",
   "execution_count": 26,
   "id": "8e168cd6",
   "metadata": {},
   "outputs": [],
   "source": [
    "with open('app/MinMaxScalers/mmsx.pkl', 'rb') as f:\n",
    "    loaded_MMS_X = pickle.load(f)\n",
    "    f.close()\n",
    "    \n",
    "with open('app/MinMaxScalers/mmsy.pkl', 'rb') as f:\n",
    "    loaded_mms_y = pickle.load(f)\n",
    "    f.close()"
   ]
  },
  {
   "cell_type": "markdown",
   "id": "e5501747",
   "metadata": {},
   "source": [
    "Загрузка проверочной части датасета:"
   ]
  },
  {
   "cell_type": "code",
   "execution_count": 3,
   "id": "712d6f37",
   "metadata": {},
   "outputs": [],
   "source": [
    "df_X_test = pd.read_csv('app/test_data/Battery_RUL_X_test.csv', index_col=0)\n",
    "df_y_test = pd.read_csv('app/test_data/Battery_RUL_y_test.csv', index_col=0)"
   ]
  },
  {
   "cell_type": "code",
   "execution_count": 4,
   "id": "da87a5b8",
   "metadata": {},
   "outputs": [
    {
     "data": {
      "text/html": [
       "<div>\n",
       "<style scoped>\n",
       "    .dataframe tbody tr th:only-of-type {\n",
       "        vertical-align: middle;\n",
       "    }\n",
       "\n",
       "    .dataframe tbody tr th {\n",
       "        vertical-align: top;\n",
       "    }\n",
       "\n",
       "    .dataframe thead th {\n",
       "        text-align: right;\n",
       "    }\n",
       "</style>\n",
       "<table border=\"1\" class=\"dataframe\">\n",
       "  <thead>\n",
       "    <tr style=\"text-align: right;\">\n",
       "      <th></th>\n",
       "      <th>F1</th>\n",
       "      <th>F4</th>\n",
       "      <th>F7</th>\n",
       "    </tr>\n",
       "  </thead>\n",
       "  <tbody>\n",
       "    <tr>\n",
       "      <th>11339</th>\n",
       "      <td>1511.75</td>\n",
       "      <td>3.593</td>\n",
       "      <td>8317.81</td>\n",
       "    </tr>\n",
       "    <tr>\n",
       "      <th>14156</th>\n",
       "      <td>2003.22</td>\n",
       "      <td>3.464</td>\n",
       "      <td>8897.94</td>\n",
       "    </tr>\n",
       "    <tr>\n",
       "      <th>7356</th>\n",
       "      <td>1006.34</td>\n",
       "      <td>3.690</td>\n",
       "      <td>8010.82</td>\n",
       "    </tr>\n",
       "    <tr>\n",
       "      <th>1669</th>\n",
       "      <td>1538.84</td>\n",
       "      <td>3.584</td>\n",
       "      <td>8407.30</td>\n",
       "    </tr>\n",
       "    <tr>\n",
       "      <th>7536</th>\n",
       "      <td>781.19</td>\n",
       "      <td>3.734</td>\n",
       "      <td>7349.25</td>\n",
       "    </tr>\n",
       "    <tr>\n",
       "      <th>...</th>\n",
       "      <td>...</td>\n",
       "      <td>...</td>\n",
       "      <td>...</td>\n",
       "    </tr>\n",
       "    <tr>\n",
       "      <th>5608</th>\n",
       "      <td>1966.53</td>\n",
       "      <td>3.466</td>\n",
       "      <td>9002.19</td>\n",
       "    </tr>\n",
       "    <tr>\n",
       "      <th>42</th>\n",
       "      <td>2217.28</td>\n",
       "      <td>3.379</td>\n",
       "      <td>9115.94</td>\n",
       "    </tr>\n",
       "    <tr>\n",
       "      <th>3144</th>\n",
       "      <td>1032.06</td>\n",
       "      <td>3.683</td>\n",
       "      <td>7343.72</td>\n",
       "    </tr>\n",
       "    <tr>\n",
       "      <th>3161</th>\n",
       "      <td>1019.38</td>\n",
       "      <td>3.684</td>\n",
       "      <td>7359.34</td>\n",
       "    </tr>\n",
       "    <tr>\n",
       "      <th>14304</th>\n",
       "      <td>1798.34</td>\n",
       "      <td>3.514</td>\n",
       "      <td>8564.78</td>\n",
       "    </tr>\n",
       "  </tbody>\n",
       "</table>\n",
       "<p>2969 rows × 3 columns</p>\n",
       "</div>"
      ],
      "text/plain": [
       "            F1     F4       F7\n",
       "11339  1511.75  3.593  8317.81\n",
       "14156  2003.22  3.464  8897.94\n",
       "7356   1006.34  3.690  8010.82\n",
       "1669   1538.84  3.584  8407.30\n",
       "7536    781.19  3.734  7349.25\n",
       "...        ...    ...      ...\n",
       "5608   1966.53  3.466  9002.19\n",
       "42     2217.28  3.379  9115.94\n",
       "3144   1032.06  3.683  7343.72\n",
       "3161   1019.38  3.684  7359.34\n",
       "14304  1798.34  3.514  8564.78\n",
       "\n",
       "[2969 rows x 3 columns]"
      ]
     },
     "execution_count": 4,
     "metadata": {},
     "output_type": "execute_result"
    }
   ],
   "source": [
    "df_X_test"
   ]
  },
  {
   "cell_type": "code",
   "execution_count": 5,
   "id": "7fe80458",
   "metadata": {},
   "outputs": [
    {
     "data": {
      "text/html": [
       "<div>\n",
       "<style scoped>\n",
       "    .dataframe tbody tr th:only-of-type {\n",
       "        vertical-align: middle;\n",
       "    }\n",
       "\n",
       "    .dataframe tbody tr th {\n",
       "        vertical-align: top;\n",
       "    }\n",
       "\n",
       "    .dataframe thead th {\n",
       "        text-align: right;\n",
       "    }\n",
       "</style>\n",
       "<table border=\"1\" class=\"dataframe\">\n",
       "  <thead>\n",
       "    <tr style=\"text-align: right;\">\n",
       "      <th></th>\n",
       "      <th>F2</th>\n",
       "      <th>F3</th>\n",
       "      <th>F5</th>\n",
       "      <th>F6</th>\n",
       "      <th>RUL</th>\n",
       "    </tr>\n",
       "  </thead>\n",
       "  <tbody>\n",
       "    <tr>\n",
       "      <th>11339</th>\n",
       "      <td>394.285714</td>\n",
       "      <td>3.864</td>\n",
       "      <td>2701.175000</td>\n",
       "      <td>3572.38</td>\n",
       "      <td>533</td>\n",
       "    </tr>\n",
       "    <tr>\n",
       "      <th>14156</th>\n",
       "      <td>662.400000</td>\n",
       "      <td>3.983</td>\n",
       "      <td>4393.113000</td>\n",
       "      <td>5336.31</td>\n",
       "      <td>964</td>\n",
       "    </tr>\n",
       "    <tr>\n",
       "      <th>7356</th>\n",
       "      <td>266.785714</td>\n",
       "      <td>3.804</td>\n",
       "      <td>1448.253000</td>\n",
       "      <td>2060.25</td>\n",
       "      <td>192</td>\n",
       "    </tr>\n",
       "    <tr>\n",
       "      <th>1669</th>\n",
       "      <td>410.742857</td>\n",
       "      <td>3.861</td>\n",
       "      <td>2834.360000</td>\n",
       "      <td>3716.36</td>\n",
       "      <td>492</td>\n",
       "    </tr>\n",
       "    <tr>\n",
       "      <th>7536</th>\n",
       "      <td>179.306667</td>\n",
       "      <td>3.749</td>\n",
       "      <td>929.975000</td>\n",
       "      <td>1412.38</td>\n",
       "      <td>12</td>\n",
       "    </tr>\n",
       "    <tr>\n",
       "      <th>...</th>\n",
       "      <td>...</td>\n",
       "      <td>...</td>\n",
       "      <td>...</td>\n",
       "      <td>...</td>\n",
       "      <td>...</td>\n",
       "    </tr>\n",
       "    <tr>\n",
       "      <th>5608</th>\n",
       "      <td>649.600000</td>\n",
       "      <td>3.985</td>\n",
       "      <td>4316.359000</td>\n",
       "      <td>5264.36</td>\n",
       "      <td>882</td>\n",
       "    </tr>\n",
       "    <tr>\n",
       "      <th>42</th>\n",
       "      <td>830.407000</td>\n",
       "      <td>4.045</td>\n",
       "      <td>5062.375000</td>\n",
       "      <td>6035.38</td>\n",
       "      <td>1069</td>\n",
       "    </tr>\n",
       "    <tr>\n",
       "      <th>3144</th>\n",
       "      <td>276.571429</td>\n",
       "      <td>3.810</td>\n",
       "      <td>1515.208143</td>\n",
       "      <td>2168.35</td>\n",
       "      <td>87</td>\n",
       "    </tr>\n",
       "    <tr>\n",
       "      <th>3161</th>\n",
       "      <td>272.043956</td>\n",
       "      <td>3.808</td>\n",
       "      <td>1470.812000</td>\n",
       "      <td>2096.31</td>\n",
       "      <td>70</td>\n",
       "    </tr>\n",
       "    <tr>\n",
       "      <th>14304</th>\n",
       "      <td>548.800000</td>\n",
       "      <td>3.960</td>\n",
       "      <td>3716.375000</td>\n",
       "      <td>4616.38</td>\n",
       "      <td>816</td>\n",
       "    </tr>\n",
       "  </tbody>\n",
       "</table>\n",
       "<p>2969 rows × 5 columns</p>\n",
       "</div>"
      ],
      "text/plain": [
       "               F2     F3           F5       F6   RUL\n",
       "11339  394.285714  3.864  2701.175000  3572.38   533\n",
       "14156  662.400000  3.983  4393.113000  5336.31   964\n",
       "7356   266.785714  3.804  1448.253000  2060.25   192\n",
       "1669   410.742857  3.861  2834.360000  3716.36   492\n",
       "7536   179.306667  3.749   929.975000  1412.38    12\n",
       "...           ...    ...          ...      ...   ...\n",
       "5608   649.600000  3.985  4316.359000  5264.36   882\n",
       "42     830.407000  4.045  5062.375000  6035.38  1069\n",
       "3144   276.571429  3.810  1515.208143  2168.35    87\n",
       "3161   272.043956  3.808  1470.812000  2096.31    70\n",
       "14304  548.800000  3.960  3716.375000  4616.38   816\n",
       "\n",
       "[2969 rows x 5 columns]"
      ]
     },
     "execution_count": 5,
     "metadata": {},
     "output_type": "execute_result"
    }
   ],
   "source": [
    "df_y_test"
   ]
  },
  {
   "cell_type": "markdown",
   "id": "b1244ae2",
   "metadata": {},
   "source": [
    "Функция для получения предсказания с сервера TensorFlow Serving и его печати:"
   ]
  },
  {
   "cell_type": "code",
   "execution_count": 6,
   "id": "5b2456ee",
   "metadata": {},
   "outputs": [],
   "source": [
    "def get_prediction(X):\n",
    "    \n",
    "    \"\"\"\n",
    "    X должен быть в формате [ X0, X1, ... Xn ], где каждый элемент Xi = [ F1, F4, F7 ] и n >= 0\n",
    "    \n",
    "    \"\"\"\n",
    "        \n",
    "    try:\n",
    "        Xt = loaded_MMS_X.transform(X).tolist()\n",
    "        data = '{\"instances\": ' + str(Xt) + '}'\n",
    "    except:\n",
    "        print('Ошибка: неверный тип X')\n",
    "        return\n",
    "    \n",
    "    conn_error = False\n",
    "\n",
    "    try:\n",
    "        pred = requests.post(\n",
    "            \"http://localhost:8501/v1/models/Battery_RUL:predict\", \n",
    "            data=data)\n",
    "    except:\n",
    "        conn_error = True\n",
    "\n",
    "    if conn_error:\n",
    "        print('Ошибка соединения с сервером.')\n",
    "        return\n",
    "    \n",
    "    if pred.status_code == 200:\n",
    "        \n",
    "        if pred.json().get('predictions', -1) == -1:\n",
    "            print('Неизвестная ошибка.')\n",
    "            return\n",
    "        else:\n",
    "            print(\n",
    "                '{:.2f} {:.3f} {:.2f} {:.2f} {:.2f}'.format(\n",
    "                *loaded_mms_y.inverse_transform(pred.json()['predictions'])[0]) )\n",
    "\n",
    "            return\n",
    "    \n",
    "    else:\n",
    "    \n",
    "        if pred.json().get('error', -1) == -1:\n",
    "            print('Неизвестная ошибка.')\n",
    "            return\n",
    "        else:\n",
    "            print( pred.json()['error'] )"
   ]
  },
  {
   "cell_type": "markdown",
   "id": "c901d9b8",
   "metadata": {},
   "source": [
    "Получаем предсказание с сервера:"
   ]
  },
  {
   "cell_type": "code",
   "execution_count": 31,
   "id": "ca34f202",
   "metadata": {},
   "outputs": [
    {
     "name": "stdout",
     "output_type": "stream",
     "text": [
      "830.21 4.009 5028.00 6022.53 1068.01\n"
     ]
    }
   ],
   "source": [
    "get_prediction( [list(df_X_test.loc[42])] )"
   ]
  },
  {
   "cell_type": "markdown",
   "id": "8c510147",
   "metadata": {},
   "source": [
    "Сравниваем с y_test:"
   ]
  },
  {
   "cell_type": "code",
   "execution_count": 8,
   "id": "1e78ee4e",
   "metadata": {},
   "outputs": [
    {
     "name": "stdout",
     "output_type": "stream",
     "text": [
      "830.41 4.045 5062.38 6035.38 1069.00\n"
     ]
    }
   ],
   "source": [
    "print('{:.2f} {:.3f} {:.2f} {:.2f} {:.2f}'.format(*df_y_test.loc[42].tolist()))"
   ]
  },
  {
   "cell_type": "code",
   "execution_count": null,
   "id": "8416ce33",
   "metadata": {},
   "outputs": [],
   "source": []
  }
 ],
 "metadata": {
  "kernelspec": {
   "display_name": "Python 3 (ipykernel)",
   "language": "python",
   "name": "python3"
  },
  "language_info": {
   "codemirror_mode": {
    "name": "ipython",
    "version": 3
   },
   "file_extension": ".py",
   "mimetype": "text/x-python",
   "name": "python",
   "nbconvert_exporter": "python",
   "pygments_lexer": "ipython3",
   "version": "3.9.16"
  }
 },
 "nbformat": 4,
 "nbformat_minor": 5
}
